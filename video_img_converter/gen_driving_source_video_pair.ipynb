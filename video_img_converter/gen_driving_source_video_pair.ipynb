{
 "cells": [
  {
   "cell_type": "code",
   "execution_count": 1,
   "metadata": {},
   "outputs": [],
   "source": [
    "import os\n",
    "import glob\n",
    "import numpy as np\n",
    "import cv2\n",
    "import matplotlib.pyplot as plt\n",
    "import pickle as pkl"
   ]
  },
  {
   "cell_type": "code",
   "execution_count": 2,
   "metadata": {},
   "outputs": [
    {
     "name": "stdout",
     "output_type": "stream",
     "text": [
      "12 2\n",
      "['/prj/qct/mmrd-cv/esper/Misc0002/dataset/liveportrait-augmentation/source_images/09202024/Keli_lc.jpg', '/prj/qct/mmrd-cv/esper/Misc0002/dataset/liveportrait-augmentation/source_images/09202024/Matt_lc.jpg']\n"
     ]
    }
   ],
   "source": [
    "driving_video_root = '/prj/qct/mmrd-cv/esper/Misc0002/dataset/liveportrait-augmentation/driving_videos'\n",
    "source_image_root = '/prj/qct/mmrd-cv/esper/Misc0002/dataset/liveportrait-augmentation/source_images/09202024'\n",
    "driving_video_paths = glob.glob(os.path.join(driving_video_root, '*.mp4'))\n",
    "source_image_paths = glob.glob(os.path.join(source_image_root, '*.jpg'))[:2]\n",
    "print(len(driving_video_paths), len(source_image_paths))\n",
    "print(source_image_paths)"
   ]
  },
  {
   "cell_type": "code",
   "execution_count": 5,
   "metadata": {},
   "outputs": [
    {
     "data": {
      "text/plain": [
       "['/prj/qct/mmrd-cv/esper/Misc0002/dataset/liveportrait-augmentation/driving_videos/subject25_cap.mp4',\n",
       " '/prj/qct/mmrd-cv/esper/Misc0002/dataset/liveportrait-augmentation/driving_videos/subject25_tied_hair.mp4',\n",
       " '/prj/qct/mmrd-cv/esper/Misc0002/dataset/liveportrait-augmentation/driving_videos/subject5_cap.mp4',\n",
       " '/prj/qct/mmrd-cv/esper/Misc0002/dataset/liveportrait-augmentation/driving_videos/subject5_tied_hair.mp4',\n",
       " '/prj/qct/mmrd-cv/esper/Misc0002/dataset/liveportrait-augmentation/driving_videos/ning_1.mp4',\n",
       " '/prj/qct/mmrd-cv/esper/Misc0002/dataset/liveportrait-augmentation/driving_videos/ning_2.mp4',\n",
       " '/prj/qct/mmrd-cv/esper/Misc0002/dataset/liveportrait-augmentation/driving_videos/ning_3.mp4',\n",
       " '/prj/qct/mmrd-cv/esper/Misc0002/dataset/liveportrait-augmentation/driving_videos/ning_4.mp4',\n",
       " '/prj/qct/mmrd-cv/esper/Misc0002/dataset/liveportrait-augmentation/driving_videos/ning_5.mp4',\n",
       " '/prj/qct/mmrd-cv/esper/Misc0002/dataset/liveportrait-augmentation/driving_videos/atalie.mp4',\n",
       " '/prj/qct/mmrd-cv/esper/Misc0002/dataset/liveportrait-augmentation/driving_videos/keli.mp4',\n",
       " '/prj/qct/mmrd-cv/esper/Misc0002/dataset/liveportrait-augmentation/driving_videos/matt.mp4']"
      ]
     },
     "execution_count": 5,
     "metadata": {},
     "output_type": "execute_result"
    }
   ],
   "source": [
    "driving_video_paths"
   ]
  },
  {
   "cell_type": "code",
   "execution_count": 6,
   "metadata": {},
   "outputs": [
    {
     "ename": "",
     "evalue": "",
     "output_type": "error",
     "traceback": [
      "\u001b[1;31mThe Kernel crashed while executing code in the current cell or a previous cell. \n",
      "\u001b[1;31mPlease review the code in the cell(s) to identify a possible cause of the failure. \n",
      "\u001b[1;31mClick <a href='https://aka.ms/vscodeJupyterKernelCrash'>here</a> for more info. \n",
      "\u001b[1;31mView Jupyter <a href='command:jupyter.viewOutput'>log</a> for further details."
     ]
    }
   ],
   "source": [
    "# Load a video into a numpy array\n",
    "def load_video(video_path):\n",
    "    cap = cv2.VideoCapture(video_path)\n",
    "    frames = []\n",
    "    while True:\n",
    "        ret, frame = cap.read()\n",
    "        if not ret:\n",
    "            break\n",
    "        frames.append(frame)\n",
    "    cap.release()\n",
    "    return np.array(frames)\n",
    "\n",
    "# Load a source image into a numpy array\n",
    "def load_source_image(image_path):\n",
    "    image = cv2.imread(image_path)\n",
    "    return image\n",
    "\n",
    "# Resize the short side of the video to 512 pixels, and do center crop for the long side, the output size is 512x512\n",
    "def center_crop_and_resize_video(video, rt=512):\n",
    "    \"\"\"\n",
    "    Args:\n",
    "        video: numpy array, shape (T, H, W, C)\n",
    "        rt: int, the short side of the output video (resize to)\n",
    "    Returns:\n",
    "        cropped_video: numpy array, shape (T, 512, 512, C)\n",
    "    \"\"\"\n",
    "    frame_num, height, width, _ = video.shape\n",
    "    if height > width:\n",
    "        new_height = rt\n",
    "        new_width = int(width * rt / height)\n",
    "    else:\n",
    "        new_width = rt\n",
    "        new_height = int(height * rt / width)\n",
    "    resized_video = cv2.resize(video, (new_width, new_height))\n",
    "    height, width, _ = resized_video.shape\n",
    "    start_x = (width - rt) // 2\n",
    "    start_y = (height - rt) // 2\n",
    "    cropped_video = resized_video[start_y:start_y+rt, start_x:start_x+rt]\n",
    "    return cropped_video\n",
    "\n",
    "video = load_video(driving_video_paths[10])\n",
    "source_image = load_source_image(source_image_paths[0])"
   ]
  },
  {
   "cell_type": "code",
   "execution_count": 4,
   "metadata": {},
   "outputs": [
    {
     "data": {
      "text/plain": [
       "(5425, 720, 720, 3)"
      ]
     },
     "execution_count": 4,
     "metadata": {},
     "output_type": "execute_result"
    }
   ],
   "source": [
    "video.shape"
   ]
  },
  {
   "cell_type": "code",
   "execution_count": null,
   "metadata": {},
   "outputs": [],
   "source": [
    "cropped_video = center_crop_and_resize_video(video)"
   ]
  },
  {
   "cell_type": "code",
   "execution_count": null,
   "metadata": {},
   "outputs": [],
   "source": [
    "# Visualize the first frame of the cropped video\n",
    "plt.imshow(cropped_video[0])\n",
    "plt.show()"
   ]
  },
  {
   "cell_type": "code",
   "execution_count": null,
   "metadata": {},
   "outputs": [],
   "source": [
    "# Concate the cropped video and the source image\n",
    "def concate_video_and_source_image(video, source_image):\n",
    "    \"\"\"\n",
    "    Args:\n",
    "        video: numpy array, shape (T, L, L, C)\n",
    "        source_image: numpy array, shape (L, 2L, C)\n",
    "    Returns:\n",
    "        concated_video: numpy array, shape (T, L, L, C)\n",
    "    \"\"\"\n",
    "    video_height, video_width, _ = video.shape\n",
    "    source_image_height, source_image_width, _ = source_image.shape\n",
    "    if video_height > video_width:\n",
    "        source_image_height = int(source_image_height * video_width / video_height)\n",
    "        source_image_width = video_width\n",
    "    else:\n",
    "        source_image_width = int(source_image_width * video_height / video_width)\n",
    "        source_image_height = video_height\n",
    "    resized_source_image = cv2.resize(source_image, (source_image_width, source_image_height))\n",
    "    concated_video = np.concatenate([video, resized_source_image], axis=0)\n",
    "    return concated_video"
   ]
  }
 ],
 "metadata": {
  "kernelspec": {
   "display_name": "LivePortrait",
   "language": "python",
   "name": "python3"
  },
  "language_info": {
   "codemirror_mode": {
    "name": "ipython",
    "version": 3
   },
   "file_extension": ".py",
   "mimetype": "text/x-python",
   "name": "python",
   "nbconvert_exporter": "python",
   "pygments_lexer": "ipython3",
   "version": "3.9.19"
  }
 },
 "nbformat": 4,
 "nbformat_minor": 2
}
