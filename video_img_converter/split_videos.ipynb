{
 "cells": [
  {
   "cell_type": "code",
   "execution_count": 1,
   "metadata": {},
   "outputs": [],
   "source": [
    "from moviepy.video.io.VideoFileClip import VideoFileClip\n",
    "import os\n",
    "import os.path as osp"
   ]
  },
  {
   "cell_type": "markdown",
   "metadata": {},
   "source": [
    "# Split video using moviepy"
   ]
  },
  {
   "cell_type": "code",
   "execution_count": 5,
   "metadata": {},
   "outputs": [
    {
     "name": "stdout",
     "output_type": "stream",
     "text": [
      "Moviepy - Building video /prj/qct/mmrd-cv/wonderland_data/3DFR_Data/3dMD/PAC/live-portrait-data/processed_videos/legacy/ning_1.mp4.\n",
      "Moviepy - Writing video /prj/qct/mmrd-cv/wonderland_data/3DFR_Data/3dMD/PAC/live-portrait-data/processed_videos/legacy/ning_1.mp4\n",
      "\n"
     ]
    },
    {
     "name": "stderr",
     "output_type": "stream",
     "text": [
      "                                                                \r"
     ]
    },
    {
     "name": "stdout",
     "output_type": "stream",
     "text": [
      "Moviepy - Done !\n",
      "Moviepy - video ready /prj/qct/mmrd-cv/wonderland_data/3DFR_Data/3dMD/PAC/live-portrait-data/processed_videos/legacy/ning_1.mp4\n",
      "Moviepy - Building video /prj/qct/mmrd-cv/wonderland_data/3DFR_Data/3dMD/PAC/live-portrait-data/processed_videos/legacy/ning_2.mp4.\n",
      "Moviepy - Writing video /prj/qct/mmrd-cv/wonderland_data/3DFR_Data/3dMD/PAC/live-portrait-data/processed_videos/legacy/ning_2.mp4\n",
      "\n"
     ]
    },
    {
     "name": "stderr",
     "output_type": "stream",
     "text": [
      "                                                                \r"
     ]
    },
    {
     "name": "stdout",
     "output_type": "stream",
     "text": [
      "Moviepy - Done !\n",
      "Moviepy - video ready /prj/qct/mmrd-cv/wonderland_data/3DFR_Data/3dMD/PAC/live-portrait-data/processed_videos/legacy/ning_2.mp4\n",
      "Moviepy - Building video /prj/qct/mmrd-cv/wonderland_data/3DFR_Data/3dMD/PAC/live-portrait-data/processed_videos/legacy/ning_3.mp4.\n",
      "Moviepy - Writing video /prj/qct/mmrd-cv/wonderland_data/3DFR_Data/3dMD/PAC/live-portrait-data/processed_videos/legacy/ning_3.mp4\n",
      "\n"
     ]
    },
    {
     "name": "stderr",
     "output_type": "stream",
     "text": [
      "                                                                \r"
     ]
    },
    {
     "name": "stdout",
     "output_type": "stream",
     "text": [
      "Moviepy - Done !\n",
      "Moviepy - video ready /prj/qct/mmrd-cv/wonderland_data/3DFR_Data/3dMD/PAC/live-portrait-data/processed_videos/legacy/ning_3.mp4\n",
      "Moviepy - Building video /prj/qct/mmrd-cv/wonderland_data/3DFR_Data/3dMD/PAC/live-portrait-data/processed_videos/legacy/ning_4.mp4.\n",
      "Moviepy - Writing video /prj/qct/mmrd-cv/wonderland_data/3DFR_Data/3dMD/PAC/live-portrait-data/processed_videos/legacy/ning_4.mp4\n",
      "\n"
     ]
    },
    {
     "name": "stderr",
     "output_type": "stream",
     "text": [
      "                                                                \r"
     ]
    },
    {
     "name": "stdout",
     "output_type": "stream",
     "text": [
      "Moviepy - Done !\n",
      "Moviepy - video ready /prj/qct/mmrd-cv/wonderland_data/3DFR_Data/3dMD/PAC/live-portrait-data/processed_videos/legacy/ning_4.mp4\n",
      "Moviepy - Building video /prj/qct/mmrd-cv/wonderland_data/3DFR_Data/3dMD/PAC/live-portrait-data/processed_videos/legacy/ning_5.mp4.\n",
      "Moviepy - Writing video /prj/qct/mmrd-cv/wonderland_data/3DFR_Data/3dMD/PAC/live-portrait-data/processed_videos/legacy/ning_5.mp4\n",
      "\n"
     ]
    },
    {
     "name": "stderr",
     "output_type": "stream",
     "text": [
      "                                                                \r"
     ]
    },
    {
     "name": "stdout",
     "output_type": "stream",
     "text": [
      "Moviepy - Done !\n",
      "Moviepy - video ready /prj/qct/mmrd-cv/wonderland_data/3DFR_Data/3dMD/PAC/live-portrait-data/processed_videos/legacy/ning_5.mp4\n",
      "Moviepy - Building video /prj/qct/mmrd-cv/wonderland_data/3DFR_Data/3dMD/PAC/live-portrait-data/processed_videos/legacy/ning_6.mp4.\n",
      "Moviepy - Writing video /prj/qct/mmrd-cv/wonderland_data/3DFR_Data/3dMD/PAC/live-portrait-data/processed_videos/legacy/ning_6.mp4\n",
      "\n"
     ]
    },
    {
     "name": "stderr",
     "output_type": "stream",
     "text": [
      "                                                                \r"
     ]
    },
    {
     "name": "stdout",
     "output_type": "stream",
     "text": [
      "Moviepy - Done !\n",
      "Moviepy - video ready /prj/qct/mmrd-cv/wonderland_data/3DFR_Data/3dMD/PAC/live-portrait-data/processed_videos/legacy/ning_6.mp4\n",
      "Moviepy - Building video /prj/qct/mmrd-cv/wonderland_data/3DFR_Data/3dMD/PAC/live-portrait-data/processed_videos/legacy/ning_7.mp4.\n",
      "Moviepy - Writing video /prj/qct/mmrd-cv/wonderland_data/3DFR_Data/3dMD/PAC/live-portrait-data/processed_videos/legacy/ning_7.mp4\n",
      "\n"
     ]
    },
    {
     "name": "stderr",
     "output_type": "stream",
     "text": [
      "                                                                \r"
     ]
    },
    {
     "name": "stdout",
     "output_type": "stream",
     "text": [
      "Moviepy - Done !\n",
      "Moviepy - video ready /prj/qct/mmrd-cv/wonderland_data/3DFR_Data/3dMD/PAC/live-portrait-data/processed_videos/legacy/ning_7.mp4\n",
      "Moviepy - Building video /prj/qct/mmrd-cv/wonderland_data/3DFR_Data/3dMD/PAC/live-portrait-data/processed_videos/legacy/ning_8.mp4.\n",
      "Moviepy - Writing video /prj/qct/mmrd-cv/wonderland_data/3DFR_Data/3dMD/PAC/live-portrait-data/processed_videos/legacy/ning_8.mp4\n",
      "\n"
     ]
    },
    {
     "name": "stderr",
     "output_type": "stream",
     "text": [
      "                                                                \r"
     ]
    },
    {
     "name": "stdout",
     "output_type": "stream",
     "text": [
      "Moviepy - Done !\n",
      "Moviepy - video ready /prj/qct/mmrd-cv/wonderland_data/3DFR_Data/3dMD/PAC/live-portrait-data/processed_videos/legacy/ning_8.mp4\n",
      "Moviepy - Building video /prj/qct/mmrd-cv/wonderland_data/3DFR_Data/3dMD/PAC/live-portrait-data/processed_videos/legacy/ning_9.mp4.\n",
      "Moviepy - Writing video /prj/qct/mmrd-cv/wonderland_data/3DFR_Data/3dMD/PAC/live-portrait-data/processed_videos/legacy/ning_9.mp4\n",
      "\n"
     ]
    },
    {
     "name": "stderr",
     "output_type": "stream",
     "text": [
      "                                                                \r"
     ]
    },
    {
     "name": "stdout",
     "output_type": "stream",
     "text": [
      "Moviepy - Done !\n",
      "Moviepy - video ready /prj/qct/mmrd-cv/wonderland_data/3DFR_Data/3dMD/PAC/live-portrait-data/processed_videos/legacy/ning_9.mp4\n",
      "Moviepy - Building video /prj/qct/mmrd-cv/wonderland_data/3DFR_Data/3dMD/PAC/live-portrait-data/processed_videos/legacy/ning_10.mp4.\n",
      "Moviepy - Writing video /prj/qct/mmrd-cv/wonderland_data/3DFR_Data/3dMD/PAC/live-portrait-data/processed_videos/legacy/ning_10.mp4\n",
      "\n"
     ]
    },
    {
     "name": "stderr",
     "output_type": "stream",
     "text": [
      "                                                                \r"
     ]
    },
    {
     "name": "stdout",
     "output_type": "stream",
     "text": [
      "Moviepy - Done !\n",
      "Moviepy - video ready /prj/qct/mmrd-cv/wonderland_data/3DFR_Data/3dMD/PAC/live-portrait-data/processed_videos/legacy/ning_10.mp4\n",
      "Video split into 10 clips and saved in '/prj/qct/mmrd-cv/wonderland_data/3DFR_Data/3dMD/PAC/live-portrait-data/processed_videos/legacy' directory.\n"
     ]
    }
   ],
   "source": [
    "# Video Splition Using MoviePy (It has some intersection frame lost issue)\n",
    "def split_video(input_file, K, output_dir=None):\n",
    "    # Load the video file\n",
    "    video = VideoFileClip(input_file)\n",
    "\n",
    "    # Calculate the duration of each clip\n",
    "    duration = video.duration\n",
    "    clip_duration = duration / K\n",
    "\n",
    "    # Create output directory\n",
    "    if output_dir is None:\n",
    "        output_dir = osp.split(input_file)[0]\n",
    "    os.makedirs(output_dir, exist_ok=True)\n",
    "    stem = osp.splitext(osp.split(input_file)[1])[0]\n",
    "\n",
    "    # Split the video into K clips\n",
    "    for i in range(K):\n",
    "        start_time = i * clip_duration\n",
    "        end_time = (i + 1) * clip_duration\n",
    "        clip = video.subclip(start_time, end_time)\n",
    "        output_file = os.path.join(output_dir, f\"{stem}_{i+1}.mp4\")\n",
    "        clip.write_videofile(output_file, codec=\"libx264\")\n",
    "\n",
    "    print(f\"Video split into {K} clips and saved in '{output_dir}' directory.\")\n",
    "\n",
    "# Example usage\n",
    "input_file = \"/prj/qct/mmrd-cv/wonderland_data/3DFR_Data/3dMD/PAC/live-portrait-data/processed_videos/legacy/ning.mp4\"\n",
    "K = 10  # Number of clips\n",
    "split_video(input_file, K)"
   ]
  },
  {
   "cell_type": "markdown",
   "metadata": {},
   "source": [
    "# Split video using cv2"
   ]
  },
  {
   "cell_type": "code",
   "execution_count": 2,
   "metadata": {},
   "outputs": [
    {
     "name": "stdout",
     "output_type": "stream",
     "text": [
      "[3, 6, 10]\n"
     ]
    }
   ],
   "source": [
    "def get_split_indices(total_num, K):\n",
    "    length = total_num//K\n",
    "    points = []\n",
    "    for i in range(1,K):\n",
    "        points.append(length*i)\n",
    "    points.append(total_num)\n",
    "    return points\n",
    "print(get_split_indices(10, 3))"
   ]
  },
  {
   "cell_type": "code",
   "execution_count": 3,
   "metadata": {},
   "outputs": [
    {
     "name": "stdout",
     "output_type": "stream",
     "text": [
      "FPS: 30.0, Total Frames: 20028\n",
      "Split indices:  (4192, 8172, 12421, 16360, 20028)\n",
      "[4192, 3980, 4249, 3939, 3668]\n",
      "Sum of frames per clip:  20028\n",
      "Video split into 5 clips successfully.\n"
     ]
    }
   ],
   "source": [
    "import cv2\n",
    "import os\n",
    "import os.path as osp\n",
    "\n",
    "def split_video(input_file, output_dir=None, K=3, split_indices=None):\n",
    "    # Create output directory\n",
    "    if output_dir is None:\n",
    "        output_dir = osp.split(input_file)[0]\n",
    "    os.makedirs(output_dir, exist_ok=True)\n",
    "    stem = osp.splitext(osp.split(input_file)[1])[0]\n",
    "\n",
    "    # Open the video file\n",
    "    cap = cv2.VideoCapture(input_file)\n",
    "    if not cap.isOpened():\n",
    "        print(\"Error: Could not open video.\")\n",
    "        return\n",
    "\n",
    "    # Get video properties\n",
    "    fps = cap.get(cv2.CAP_PROP_FPS)\n",
    "    total_frames = int(cap.get(cv2.CAP_PROP_FRAME_COUNT))\n",
    "    print(f\"FPS: {fps}, Total Frames: {total_frames}\")\n",
    "    if split_indices is None:\n",
    "        split_indices = get_split_indices(total_frames, K)\n",
    "    print(\"Split indices: \", split_indices)\n",
    "    frames_per_clip = []\n",
    "    start_idx = 0\n",
    "    for i in range(K):\n",
    "        end_idx = split_indices[i]\n",
    "        frames_per_clip.append(end_idx-start_idx)\n",
    "        start_idx = end_idx\n",
    "    print(frames_per_clip)\n",
    "    print(\"Sum of frames per clip: \", sum(frames_per_clip))\n",
    "\n",
    "    for i in range(K):\n",
    "        # Define the codec and create VideoWriter object\n",
    "        fourcc = cv2.VideoWriter_fourcc(*'mp4v')\n",
    "        # output_file = os.path.join(output_folder, f'clip_{i+1}.mp4')\n",
    "        output_file = os.path.join(output_dir, f\"{stem}_{i+1}.mp4\")\n",
    "        out = cv2.VideoWriter(output_file, fourcc, fps, (int(cap.get(3)), int(cap.get(4))))\n",
    "\n",
    "        for j in range(frames_per_clip[i]):\n",
    "            ret, frame = cap.read()\n",
    "            if not ret:\n",
    "                break\n",
    "            out.write(frame)\n",
    "\n",
    "        out.release()\n",
    "\n",
    "    cap.release()\n",
    "    print(f\"Video split into {K} clips successfully.\")\n",
    "\n",
    "# Example usage\n",
    "# input_file = \"/prj/qct/mmrd-cv/wonderland_data/3DFR_Data/3dMD/PAC/live-portrait-data/processed_videos/legacy/ning.mp4\"\n",
    "input_file = \"/prj/qct/mmrd-cv/esper/Misc0002/dataset/liveportrait-augmentation/driving_videos/legacy/ning.mp4\"\n",
    "# K = 5\n",
    "# split_video(input_file, K=5)\n",
    "split_indices = (4192, 8172, 12421, 16360, 20028)\n",
    "split_video(input_file, K=len(split_indices), split_indices=split_indices)\n"
   ]
  },
  {
   "cell_type": "code",
   "execution_count": null,
   "metadata": {},
   "outputs": [],
   "source": []
  }
 ],
 "metadata": {
  "kernelspec": {
   "display_name": "LivePortrait",
   "language": "python",
   "name": "python3"
  },
  "language_info": {
   "codemirror_mode": {
    "name": "ipython",
    "version": 3
   },
   "file_extension": ".py",
   "mimetype": "text/x-python",
   "name": "python",
   "nbconvert_exporter": "python",
   "pygments_lexer": "ipython3",
   "version": "3.9.19"
  }
 },
 "nbformat": 4,
 "nbformat_minor": 2
}
