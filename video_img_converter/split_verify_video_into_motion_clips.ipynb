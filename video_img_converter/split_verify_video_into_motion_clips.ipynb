{
 "cells": [
  {
   "cell_type": "code",
   "execution_count": null,
   "metadata": {},
   "outputs": [],
   "source": [
    "import os\n",
    "import os.path as osp\n",
    "import glob\n",
    "import numpy as np\n",
    "import pandas as pd\n",
    "import cv2\n",
    "import matplotlib.pyplot as plt\n",
    "import pickle as pkl"
   ]
  },
  {
   "cell_type": "code",
   "execution_count": null,
   "metadata": {},
   "outputs": [],
   "source": [
    "meta_root = '/prj/qct/mmrd-cv/esper/Misc0002/dataset/liveportrait-augmentation/frame_records_csvs'\n",
    "verify_video_root = '/prj/qct/mmrd-cv/esper/Misc0002/dataset/liveportrait-augmentation/verify_videos'\n",
    "\n",
    "driver_ver_dct ={\n",
    "    'atalie': 1,\n",
    "    'keli': 1,\n",
    "    'matt': 1,\n",
    "    'subject5_cap': 2,\n",
    "    'subject5_tied_hair': 2,\n",
    "    'subject25_cap': 2,\n",
    "    'subject25_tied_hair': 2,\n",
    "}\n",
    "\n",
    "def get_image_list(dn, ver):\n",
    "    if ver == 1:\n",
    "        image_list_record_root = '/prj/qct/mmrd-cv/wonderland_data/3DFR_Data_wrap4d/Pair_man/PAC/meta/train'\n",
    "    elif ver == 2:\n",
    "        image_list_record_root = '/mnt/QPFA-LV/dataset/LightCage_Process_MV_Data/PAC_Add_Nose/meta'\n",
    "\n",
    "    meta_file = osp.join(image_list_record_root, f'data_parsed_List_{dn}_man_process_list_train.csv')\n",
    "    if ver == 1:\n",
    "        image_filename_list = pd.read_csv(meta_file)['tar_bg'].tolist()\n",
    "    elif ver == 2:\n",
    "        image_filename_list = pd.read_csv(meta_file)['tar'].tolist()\n",
    "    return image_filename_list"
   ]
  }
 ],
 "metadata": {
  "language_info": {
   "name": "python"
  }
 },
 "nbformat": 4,
 "nbformat_minor": 2
}
