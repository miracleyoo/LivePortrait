{
 "cells": [
  {
   "cell_type": "code",
   "execution_count": 1,
   "metadata": {},
   "outputs": [],
   "source": [
    "import os\n",
    "import os.path as osp\n",
    "import glob\n",
    "import numpy as np\n",
    "import pandas as pd\n",
    "import cv2\n",
    "import matplotlib.pyplot as plt\n",
    "import pickle as pkl"
   ]
  },
  {
   "cell_type": "code",
   "execution_count": 2,
   "metadata": {},
   "outputs": [],
   "source": [
    "meta_root = '/prj/qct/mmrd-cv/esper/Misc0002/dataset/liveportrait-augmentation/frame_records_csvs'\n",
    "verify_video_root = '/prj/qct/mmrd-cv/esper/Misc0002/dataset/liveportrait-augmentation/verify_videos'\n",
    "out_video_root = '/prj/qct/mmrd-cv/esper/Misc0002/dataset/liveportrait-augmentation/verify_videos_split'\n",
    "\n",
    "driver_ver_dct ={\n",
    "    'atalie': 1,\n",
    "    'keli': 1,\n",
    "    'matt': 1,\n",
    "    'subject5_cap': 2,\n",
    "    'subject5_tied_hair': 2,\n",
    "    'subject25_cap': 2,\n",
    "    'subject25_tied_hair': 2,\n",
    "}\n",
    "\n",
    "def get_image_list(dn, ver):\n",
    "    if ver == 1:\n",
    "        image_list_record_root = '/prj/qct/mmrd-cv/wonderland_data/3DFR_Data_wrap4d/Pair_man/PAC/meta/train'\n",
    "    elif ver == 2:\n",
    "        image_list_record_root = '/mnt/QPFA-LV/dataset/LightCage_Process_MV_Data/PAC_Add_Nose/meta'\n",
    "\n",
    "    meta_file = osp.join(image_list_record_root, f'data_parsed_List_{dn}_man_process_list_train.csv')\n",
    "    if ver == 1:\n",
    "        image_filename_list = pd.read_csv(meta_file)['tar_bg'].tolist()\n",
    "    elif ver == 2:\n",
    "        image_filename_list = pd.read_csv(meta_file)['tar'].tolist()\n",
    "    return image_filename_list\n",
    "\n",
    "def get_motion_name(path):\n",
    "    motion_name = path.split('/')[1]\n",
    "    return motion_name"
   ]
  },
  {
   "cell_type": "code",
   "execution_count": 5,
   "metadata": {},
   "outputs": [],
   "source": [
    "# dn, ver = list(driver_ver_dct.items())[0]\n",
    "\n",
    "for  dn, ver in list(driver_ver_dct.items())[1:]:\n",
    "    image_filename_list = get_image_list(dn, ver)\n",
    "    merged_video_root = osp.join(verify_video_root, f'{dn}-driving')\n",
    "    merged_video_list = glob.glob(osp.join(merged_video_root, '*.mp4'))\n",
    "    source_names = [osp.basename(x).split('--')[0] for x in merged_video_list]\n",
    "    for sn, merged_video_path in zip(source_names, merged_video_list):\n",
    "        # open the merged_video using cv2\n",
    "        cap = cv2.VideoCapture(merged_video_path)\n",
    "        # get the frame rate of the video\n",
    "        fps = cap.get(cv2.CAP_PROP_FPS)\n",
    "        # get the total number of frames in the video\n",
    "        total_frames = int(cap.get(cv2.CAP_PROP_FRAME_COUNT))\n",
    "        # get the width and height of the video\n",
    "        width = int(cap.get(cv2.CAP_PROP_FRAME_WIDTH))\n",
    "        height = int(cap.get(cv2.CAP_PROP_FRAME_HEIGHT))\n",
    "\n",
    "        motion = get_motion_name(image_filename_list[0])\n",
    "        out_video_path = osp.join(out_video_root, dn, sn, f'{motion}.mp4')\n",
    "        os.makedirs(osp.dirname(out_video_path), exist_ok=True)\n",
    "        # create a VideoWriter object to save the output video\n",
    "        fourcc = cv2.VideoWriter_fourcc(*'mp4v')\n",
    "        out = cv2.VideoWriter(out_video_path, fourcc, fps, (width, height))\n",
    "\n",
    "        # loop through the frames of the video\n",
    "        for i in range(total_frames):\n",
    "            motion_new = get_motion_name(image_filename_list[i])\n",
    "            if motion_new != motion:\n",
    "                out.release()\n",
    "                motion = motion_new\n",
    "                out_video_path = osp.join(out_video_root, dn, sn, f'{motion}.mp4')\n",
    "                os.makedirs(osp.dirname(out_video_path), exist_ok=True)\n",
    "                out = cv2.VideoWriter(out_video_path, fourcc, fps, (width, height))\n",
    "\n",
    "            # read the next frame\n",
    "            ret, frame = cap.read()\n",
    "            # check if the frame was read successfully\n",
    "            if not ret:\n",
    "                break\n",
    "            # write the frame to the output video\n",
    "            out.write(frame)\n",
    "        # release the VideoCapture and VideoWriter objects\n",
    "        cap.release()\n",
    "        out.release()"
   ]
  },
  {
   "cell_type": "code",
   "execution_count": null,
   "metadata": {},
   "outputs": [],
   "source": []
  }
 ],
 "metadata": {
  "kernelspec": {
   "display_name": "LivePortrait",
   "language": "python",
   "name": "python3"
  },
  "language_info": {
   "codemirror_mode": {
    "name": "ipython",
    "version": 3
   },
   "file_extension": ".py",
   "mimetype": "text/x-python",
   "name": "python",
   "nbconvert_exporter": "python",
   "pygments_lexer": "ipython3",
   "version": "3.9.19"
  }
 },
 "nbformat": 4,
 "nbformat_minor": 2
}
