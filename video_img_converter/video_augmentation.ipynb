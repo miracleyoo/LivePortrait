{
 "cells": [
  {
   "cell_type": "code",
   "execution_count": 3,
   "metadata": {},
   "outputs": [],
   "source": [
    "import os.path as osp\n",
    "from moviepy.editor import VideoFileClip\n",
    "from moviepy.video.fx.all import colorx\n",
    "from IPython.display import display, HTML\n"
   ]
  },
  {
   "cell_type": "code",
   "execution_count": 10,
   "metadata": {},
   "outputs": [],
   "source": [
    "input_video_path = '/prj/qct/mmrd-cv/wonderland_data/3DFR_Data/3dMD/PAC/live-portrait-data/processed_videos/keli.mp4'\n",
    "out_dir = '/prj/qct/mmrd-cv/wonderland_data/3DFR_Data/3dMD/PAC/live-portrait-data/experimental/driving_videos'\n",
    "video = VideoFileClip(input_video_path)"
   ]
  },
  {
   "cell_type": "code",
   "execution_count": 12,
   "metadata": {},
   "outputs": [
    {
     "name": "stderr",
     "output_type": "stream",
     "text": [
      "t:   0%|          | 2/3066 [2:00:39<3080:42:11, 3619.63s/it, now=None]"
     ]
    },
    {
     "name": "stdout",
     "output_type": "stream",
     "text": [
      "/prj/qct/mmrd-cv/wonderland_data/3DFR_Data/3dMD/PAC/live-portrait-data/experimental/driving_videos/keli-brightened-1.8.mp4\n",
      "Moviepy - Building video /prj/qct/mmrd-cv/wonderland_data/3DFR_Data/3dMD/PAC/live-portrait-data/experimental/driving_videos/keli-brightened-1.8.mp4.\n",
      "Moviepy - Writing video /prj/qct/mmrd-cv/wonderland_data/3DFR_Data/3dMD/PAC/live-portrait-data/experimental/driving_videos/keli-brightened-1.8.mp4\n",
      "\n"
     ]
    },
    {
     "name": "stderr",
     "output_type": "stream",
     "text": [
      "t:   0%|          | 2/3066 [2:09:49<3315:01:56, 3894.95s/it, now=None]"
     ]
    },
    {
     "name": "stdout",
     "output_type": "stream",
     "text": [
      "Moviepy - Done !\n",
      "Moviepy - video ready /prj/qct/mmrd-cv/wonderland_data/3DFR_Data/3dMD/PAC/live-portrait-data/experimental/driving_videos/keli-brightened-1.8.mp4\n"
     ]
    }
   ],
   "source": [
    "# Increase the brightness\n",
    "factor = 1.8\n",
    "brightened_video = colorx(video, factor=factor)\n",
    "\n",
    "# Save the modified video\n",
    "stem = osp.splitext(osp.split(input_video_path)[1])[0]\n",
    "out_path = osp.join(out_dir, f'{stem}-brightened-{factor}.mp4')\n",
    "print(out_path)\n",
    "brightened_video.write_videofile(out_path)"
   ]
  },
  {
   "cell_type": "code",
   "execution_count": null,
   "metadata": {},
   "outputs": [],
   "source": [
    "# # Display the video in the notebook\n",
    "# display(HTML(f\"\"\"\n",
    "# <video width=\"640\" height=\"640\" controls>\n",
    "#   <source src={input_video_path} type=\"video/mp4\">\n",
    "# </video>\n",
    "# \"\"\"))\n",
    "# Your browser does not support the video tag.\n"
   ]
  },
  {
   "cell_type": "code",
   "execution_count": null,
   "metadata": {},
   "outputs": [],
   "source": []
  }
 ],
 "metadata": {
  "kernelspec": {
   "display_name": "LivePortrait",
   "language": "python",
   "name": "python3"
  },
  "language_info": {
   "codemirror_mode": {
    "name": "ipython",
    "version": 3
   },
   "file_extension": ".py",
   "mimetype": "text/x-python",
   "name": "python",
   "nbconvert_exporter": "python",
   "pygments_lexer": "ipython3",
   "version": "3.9.19"
  }
 },
 "nbformat": 4,
 "nbformat_minor": 2
}
